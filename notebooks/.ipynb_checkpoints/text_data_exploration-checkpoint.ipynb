{
 "cells": [
  {
   "cell_type": "markdown",
   "id": "8109a91e-7cf6-4f97-8568-0860d819b788",
   "metadata": {},
   "source": [
    "# Text Data Exploration"
   ]
  },
  {
   "cell_type": "markdown",
   "id": "8c72c264-49f2-41f8-8218-6633e44aa076",
   "metadata": {},
   "source": [
    "Here we will explore the text data contained in the dataset \"AI vs Himan Text\"\n",
    "\n",
    "The dataset is in .zip format and we will try to keep it as is"
   ]
  },
  {
   "cell_type": "code",
   "execution_count": 4,
   "id": "01eb96ac-39be-4000-a431-b21f68f224bf",
   "metadata": {},
   "outputs": [],
   "source": [
    "# to handle .zip files we need to use the zipfile package\n",
    "\n",
    "import zipfile\n",
    "import pandas as pd"
   ]
  },
  {
   "cell_type": "code",
   "execution_count": 6,
   "id": "e8525e9f-0a83-4633-aa1d-d13366fafbbc",
   "metadata": {},
   "outputs": [
    {
     "ename": "FileNotFoundError",
     "evalue": "[Errno 2] No such file or directory: '../raw_data/my_data.zip'",
     "output_type": "error",
     "traceback": [
      "\u001b[0;31m---------------------------------------------------------------------------\u001b[0m",
      "\u001b[0;31mFileNotFoundError\u001b[0m                         Traceback (most recent call last)",
      "Cell \u001b[0;32mIn[6], line 5\u001b[0m\n\u001b[1;32m      2\u001b[0m zip_path \u001b[38;5;241m=\u001b[39m \u001b[38;5;124m'\u001b[39m\u001b[38;5;124m../raw_data/my_data.zip\u001b[39m\u001b[38;5;124m'\u001b[39m\n\u001b[1;32m      4\u001b[0m \u001b[38;5;66;03m# Open the ZIP file\u001b[39;00m\n\u001b[0;32m----> 5\u001b[0m \u001b[38;5;28;01mwith\u001b[39;00m \u001b[43mzipfile\u001b[49m\u001b[38;5;241;43m.\u001b[39;49m\u001b[43mZipFile\u001b[49m\u001b[43m(\u001b[49m\u001b[43mzip_path\u001b[49m\u001b[43m,\u001b[49m\u001b[43m \u001b[49m\u001b[38;5;124;43m'\u001b[39;49m\u001b[38;5;124;43mr\u001b[39;49m\u001b[38;5;124;43m'\u001b[39;49m\u001b[43m)\u001b[49m \u001b[38;5;28;01mas\u001b[39;00m zip_ref:\n\u001b[1;32m      6\u001b[0m     \u001b[38;5;66;03m# List all files in the ZIP archive\u001b[39;00m\n\u001b[1;32m      7\u001b[0m     file_list \u001b[38;5;241m=\u001b[39m zip_ref\u001b[38;5;241m.\u001b[39mnamelist()\n\u001b[1;32m      9\u001b[0m     \u001b[38;5;66;03m# Open the first file in the archive\u001b[39;00m\n",
      "File \u001b[0;32m~/.pyenv/versions/3.10.6/lib/python3.10/zipfile.py:1249\u001b[0m, in \u001b[0;36mZipFile.__init__\u001b[0;34m(self, file, mode, compression, allowZip64, compresslevel, strict_timestamps)\u001b[0m\n\u001b[1;32m   1247\u001b[0m \u001b[38;5;28;01mwhile\u001b[39;00m \u001b[38;5;28;01mTrue\u001b[39;00m:\n\u001b[1;32m   1248\u001b[0m     \u001b[38;5;28;01mtry\u001b[39;00m:\n\u001b[0;32m-> 1249\u001b[0m         \u001b[38;5;28mself\u001b[39m\u001b[38;5;241m.\u001b[39mfp \u001b[38;5;241m=\u001b[39m \u001b[43mio\u001b[49m\u001b[38;5;241;43m.\u001b[39;49m\u001b[43mopen\u001b[49m\u001b[43m(\u001b[49m\u001b[43mfile\u001b[49m\u001b[43m,\u001b[49m\u001b[43m \u001b[49m\u001b[43mfilemode\u001b[49m\u001b[43m)\u001b[49m\n\u001b[1;32m   1250\u001b[0m     \u001b[38;5;28;01mexcept\u001b[39;00m \u001b[38;5;167;01mOSError\u001b[39;00m:\n\u001b[1;32m   1251\u001b[0m         \u001b[38;5;28;01mif\u001b[39;00m filemode \u001b[38;5;129;01min\u001b[39;00m modeDict:\n",
      "\u001b[0;31mFileNotFoundError\u001b[0m: [Errno 2] No such file or directory: '../raw_data/my_data.zip'"
     ]
    }
   ],
   "source": [
    "# Define the path to the ZIP file relative to the notebook's location\n",
    "zip_path = '../raw_data/my_data.zip'\n",
    "\n",
    "# Open the ZIP file\n",
    "with zipfile.ZipFile(zip_path, 'r') as zip_ref:\n",
    "    # List all files in the ZIP archive\n",
    "    file_list = zip_ref.namelist()\n",
    "    \n",
    "    # Open the first file in the archive\n",
    "    with zip_ref.open(file_list[0]) as f:\n",
    "        # Read the CSV file into a pandas DataFrame\n",
    "        df = pd.read_csv(f)"
   ]
  },
  {
   "cell_type": "code",
   "execution_count": null,
   "id": "5c8588de-7d04-4ae5-978d-0b281446592b",
   "metadata": {},
   "outputs": [],
   "source": []
  }
 ],
 "metadata": {
  "kernelspec": {
   "display_name": "AI-Detector-interface",
   "language": "python",
   "name": "ai-detector-interface"
  },
  "language_info": {
   "codemirror_mode": {
    "name": "ipython",
    "version": 3
   },
   "file_extension": ".py",
   "mimetype": "text/x-python",
   "name": "python",
   "nbconvert_exporter": "python",
   "pygments_lexer": "ipython3",
   "version": "3.10.6"
  },
  "widgets": {
   "application/vnd.jupyter.widget-state+json": {
    "state": {},
    "version_major": 2,
    "version_minor": 0
   }
  }
 },
 "nbformat": 4,
 "nbformat_minor": 5
}
